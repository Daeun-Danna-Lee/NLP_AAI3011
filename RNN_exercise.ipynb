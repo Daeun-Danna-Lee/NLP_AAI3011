{
  "nbformat": 4,
  "nbformat_minor": 0,
  "metadata": {
    "colab": {
      "name": "RNN-exercise.ipynb",
      "provenance": [],
      "collapsed_sections": [],
      "authorship_tag": "ABX9TyPm63YSSftDNQMf56/+8yK7",
      "include_colab_link": true
    },
    "kernelspec": {
      "name": "python3",
      "display_name": "Python 3"
    },
    "language_info": {
      "name": "python"
    },
    "accelerator": "GPU"
  },
  "cells": [
    {
      "cell_type": "markdown",
      "metadata": {
        "id": "view-in-github",
        "colab_type": "text"
      },
      "source": [
        "<a href=\"https://colab.research.google.com/github/Daeun-Danna-Lee/NLP_AAI3011/blob/main/RNN_exercise.ipynb\" target=\"_parent\"><img src=\"https://colab.research.google.com/assets/colab-badge.svg\" alt=\"Open In Colab\"/></a>"
      ]
    },
    {
      "cell_type": "markdown",
      "metadata": {
        "id": "yHr-PuNj2_e5"
      },
      "source": [
        "## 1. 글자 단위 RNN 언어 모델(Char RNNLM)"
      ]
    },
    {
      "cell_type": "markdown",
      "metadata": {
        "id": "yPuuw6lB3INv"
      },
      "source": [
        "### 1) 데이터에 대한 이해와 전처리"
      ]
    },
    {
      "cell_type": "code",
      "metadata": {
        "id": "exV5EzpG20FK"
      },
      "source": [
        "import numpy as np\n",
        "import urllib.request\n",
        "from tensorflow.keras.utils import to_categorical"
      ],
      "execution_count": null,
      "outputs": []
    },
    {
      "cell_type": "code",
      "metadata": {
        "id": "-wK9n-gU3Ldh"
      },
      "source": [
        "urllib.request.urlretrieve(\"http://www.gutenberg.org/files/11/11-0.txt\", filename=\"11-0.txt\")\n",
        "f = open('11-0.txt', 'rb')\n",
        "sentences = []\n",
        "for sentence in f: # 데이터를 한 줄씩 읽는다.\n",
        "    sentence = sentence.strip() # strip()을 통해 \\r, \\n을 제거한다.\n",
        "    sentence = sentence.lower() # 소문자화.\n",
        "    sentence = sentence.decode('ascii', 'ignore') # \\xe2\\x80\\x99 등과 같은 바이트 열 제거\n",
        "    if len(sentence) > 0:\n",
        "        sentences.append(sentence)\n",
        "f.close()"
      ],
      "execution_count": null,
      "outputs": []
    },
    {
      "cell_type": "code",
      "metadata": {
        "colab": {
          "base_uri": "https://localhost:8080/"
        },
        "id": "8_igmFi83NiQ",
        "outputId": "6b6caf98-9c6a-4b7f-8b73-db6c3a29e409"
      },
      "source": [
        "sentences[:5]"
      ],
      "execution_count": null,
      "outputs": [
        {
          "output_type": "execute_result",
          "data": {
            "text/plain": [
              "['the project gutenberg ebook of alices adventures in wonderland, by lewis carroll',\n",
              " 'this ebook is for the use of anyone anywhere in the united states and',\n",
              " 'most other parts of the world at no cost and with almost no restrictions',\n",
              " 'whatsoever. you may copy it, give it away or re-use it under the terms',\n",
              " 'of the project gutenberg license included with this ebook or online at']"
            ]
          },
          "metadata": {},
          "execution_count": 3
        }
      ]
    },
    {
      "cell_type": "code",
      "metadata": {
        "colab": {
          "base_uri": "https://localhost:8080/"
        },
        "id": "nnXZSbTW3QQK",
        "outputId": "70ee3ccb-5f96-46e8-aadd-5eadaa7b12fa"
      },
      "source": [
        "# 하나의 문자열로 통합\n",
        "total_data = ' '.join(sentences)\n",
        "print('문자열의 길이 또는 총 글자의 개수: %d' % len(total_data))"
      ],
      "execution_count": null,
      "outputs": [
        {
          "output_type": "stream",
          "name": "stdout",
          "text": [
            "문자열의 길이 또는 총 글자의 개수: 159484\n"
          ]
        }
      ]
    },
    {
      "cell_type": "code",
      "metadata": {
        "colab": {
          "base_uri": "https://localhost:8080/"
        },
        "id": "uS60CyYv3Uw7",
        "outputId": "0860665d-e281-4817-8192-fba5872645e3"
      },
      "source": [
        "print(total_data[:200])"
      ],
      "execution_count": null,
      "outputs": [
        {
          "output_type": "stream",
          "name": "stdout",
          "text": [
            "the project gutenberg ebook of alices adventures in wonderland, by lewis carroll this ebook is for the use of anyone anywhere in the united states and most other parts of the world at no cost and with\n"
          ]
        }
      ]
    },
    {
      "cell_type": "code",
      "metadata": {
        "colab": {
          "base_uri": "https://localhost:8080/"
        },
        "id": "4j9cSx-83WLi",
        "outputId": "0c012a09-7912-4184-ba9f-dbabdcd260e5"
      },
      "source": [
        "# 글자 집합 생성\n",
        "char_vocab = sorted(list(set(total_data)))\n",
        "vocab_size = len(char_vocab)\n",
        "print ('글자 집합의 크기 : {}'.format(vocab_size))"
      ],
      "execution_count": null,
      "outputs": [
        {
          "output_type": "stream",
          "name": "stdout",
          "text": [
            "글자 집합의 크기 : 56\n"
          ]
        }
      ]
    },
    {
      "cell_type": "code",
      "metadata": {
        "colab": {
          "base_uri": "https://localhost:8080/"
        },
        "id": "ITwTdNV23bqk",
        "outputId": "d39e546e-e798-4983-dc06-c8f53a9b9fdc"
      },
      "source": [
        "# 글자에 고유한 정수 인덱스 부여\n",
        "char_to_index = dict((char, index) for index, char in enumerate(char_vocab)) \n",
        "print(char_to_index)"
      ],
      "execution_count": null,
      "outputs": [
        {
          "output_type": "stream",
          "name": "stdout",
          "text": [
            "{' ': 0, '!': 1, '\"': 2, '#': 3, '$': 4, '%': 5, \"'\": 6, '(': 7, ')': 8, '*': 9, ',': 10, '-': 11, '.': 12, '/': 13, '0': 14, '1': 15, '2': 16, '3': 17, '4': 18, '5': 19, '6': 20, '7': 21, '8': 22, '9': 23, ':': 24, ';': 25, '?': 26, '[': 27, ']': 28, '_': 29, 'a': 30, 'b': 31, 'c': 32, 'd': 33, 'e': 34, 'f': 35, 'g': 36, 'h': 37, 'i': 38, 'j': 39, 'k': 40, 'l': 41, 'm': 42, 'n': 43, 'o': 44, 'p': 45, 'q': 46, 'r': 47, 's': 48, 't': 49, 'u': 50, 'v': 51, 'w': 52, 'x': 53, 'y': 54, 'z': 55}\n"
          ]
        }
      ]
    },
    {
      "cell_type": "code",
      "metadata": {
        "id": "QXYG0CFT3o7d"
      },
      "source": [
        "# 인덱스에서 글자 리턴\n",
        "index_to_char = {}\n",
        "for key, value in char_to_index.items():\n",
        "    index_to_char[value] = key"
      ],
      "execution_count": null,
      "outputs": []
    },
    {
      "cell_type": "code",
      "metadata": {
        "colab": {
          "base_uri": "https://localhost:8080/"
        },
        "id": "tRgmHvaO33QW",
        "outputId": "a6c140cf-b7cd-4de6-8ad7-3c2513ea527b"
      },
      "source": [
        "seq_length = 60 # 문장의 길이를 60으로 한다.\n",
        "n_samples = int(np.floor((len(total_data) - 1) / seq_length)) # 문자열을 60등분한다. 그러면 즉, 총 샘플의 개수\n",
        "print ('문장 샘플의 수 : {}'.format(n_samples))"
      ],
      "execution_count": null,
      "outputs": [
        {
          "output_type": "stream",
          "name": "stdout",
          "text": [
            "문장 샘플의 수 : 2658\n"
          ]
        }
      ]
    },
    {
      "cell_type": "code",
      "metadata": {
        "id": "z-gcZ8T63_Fh"
      },
      "source": [
        "train_X = []\n",
        "train_y = []\n",
        "\n",
        "for i in range(n_samples):\n",
        "    # 0:60 -> 60:120 -> 120:180로 loop를 돌면서 문장 샘플을 1개씩 픽한다.\n",
        "    X_sample = total_data[i * seq_length: (i + 1) * seq_length]\n",
        "\n",
        "    # 정수 인코딩\n",
        "    X_encoded = [char_to_index[c] for c in X_sample]\n",
        "    train_X.append(X_encoded)\n",
        "\n",
        "    # 오른쪽으로 1칸 쉬프트\n",
        "    y_sample = total_data[i * seq_length + 1: (i + 1) * seq_length + 1]\n",
        "    y_encoded = [char_to_index[c] for c in y_sample]\n",
        "    train_y.append(y_encoded)"
      ],
      "execution_count": null,
      "outputs": []
    },
    {
      "cell_type": "code",
      "metadata": {
        "colab": {
          "base_uri": "https://localhost:8080/"
        },
        "id": "At3ehjWt4DFH",
        "outputId": "678c8405-ff3b-4c67-8fce-0e9b6f19016c"
      },
      "source": [
        "print(train_X[0])"
      ],
      "execution_count": null,
      "outputs": [
        {
          "output_type": "stream",
          "name": "stdout",
          "text": [
            "[49, 37, 34, 0, 45, 47, 44, 39, 34, 32, 49, 0, 36, 50, 49, 34, 43, 31, 34, 47, 36, 0, 34, 31, 44, 44, 40, 0, 44, 35, 0, 30, 41, 38, 32, 34, 48, 0, 30, 33, 51, 34, 43, 49, 50, 47, 34, 48, 0, 38, 43, 0, 52, 44, 43, 33, 34, 47, 41, 30]\n"
          ]
        }
      ]
    },
    {
      "cell_type": "code",
      "metadata": {
        "colab": {
          "base_uri": "https://localhost:8080/"
        },
        "id": "3F-r6ESY4E27",
        "outputId": "9af28073-c663-4667-b77f-82bc5c38dc9a"
      },
      "source": [
        "print(train_y[0])"
      ],
      "execution_count": null,
      "outputs": [
        {
          "output_type": "stream",
          "name": "stdout",
          "text": [
            "[37, 34, 0, 45, 47, 44, 39, 34, 32, 49, 0, 36, 50, 49, 34, 43, 31, 34, 47, 36, 0, 34, 31, 44, 44, 40, 0, 44, 35, 0, 30, 41, 38, 32, 34, 48, 0, 30, 33, 51, 34, 43, 49, 50, 47, 34, 48, 0, 38, 43, 0, 52, 44, 43, 33, 34, 47, 41, 30, 43]\n"
          ]
        }
      ]
    },
    {
      "cell_type": "code",
      "metadata": {
        "colab": {
          "base_uri": "https://localhost:8080/"
        },
        "id": "rUFg0vrq4F5h",
        "outputId": "315d0d24-f30c-4fad-9ce9-e8c2296c9021"
      },
      "source": [
        "print(train_y[1])"
      ],
      "execution_count": null,
      "outputs": [
        {
          "output_type": "stream",
          "name": "stdout",
          "text": [
            "[33, 10, 0, 31, 54, 0, 41, 34, 52, 38, 48, 0, 32, 30, 47, 47, 44, 41, 41, 0, 49, 37, 38, 48, 0, 34, 31, 44, 44, 40, 0, 38, 48, 0, 35, 44, 47, 0, 49, 37, 34, 0, 50, 48, 34, 0, 44, 35, 0, 30, 43, 54, 44, 43, 34, 0, 30, 43, 54, 52]\n"
          ]
        }
      ]
    },
    {
      "cell_type": "code",
      "metadata": {
        "id": "EGAlj2xh4ISp"
      },
      "source": [
        "# one-hot encoding\n",
        "train_X = to_categorical(train_X)\n",
        "train_y = to_categorical(train_y)"
      ],
      "execution_count": null,
      "outputs": []
    },
    {
      "cell_type": "code",
      "metadata": {
        "colab": {
          "base_uri": "https://localhost:8080/"
        },
        "id": "UHu-gtcw4MHx",
        "outputId": "a9b84478-5a49-4c2f-e0da-cf368c35627d"
      },
      "source": [
        "print('train_X의 크기(shape) : {}'.format(train_X.shape)) # 원-핫 인코딩\n",
        "print('train_y의 크기(shape) : {}'.format(train_y.shape)) # 원-핫 인코딩"
      ],
      "execution_count": null,
      "outputs": [
        {
          "output_type": "stream",
          "name": "stdout",
          "text": [
            "train_X의 크기(shape) : (2658, 60, 56)\n",
            "train_y의 크기(shape) : (2658, 60, 56)\n"
          ]
        }
      ]
    },
    {
      "cell_type": "markdown",
      "metadata": {
        "id": "NyOyJM5W4VWm"
      },
      "source": [
        "### 2) 모델 설계하기"
      ]
    },
    {
      "cell_type": "code",
      "metadata": {
        "id": "9Og-Oq7r4SyJ"
      },
      "source": [
        "from tensorflow.keras.models import Sequential\n",
        "from tensorflow.keras.layers import Dense, LSTM, TimeDistributed"
      ],
      "execution_count": null,
      "outputs": []
    },
    {
      "cell_type": "code",
      "metadata": {
        "id": "DolSSdHZ4ZtD"
      },
      "source": [
        "hidden_units = 256\n",
        "\n",
        "model = Sequential()\n",
        "model.add(LSTM(hidden_units, input_shape=(None, train_X.shape[2]), return_sequences=True))\n",
        "model.add(LSTM(hidden_units, return_sequences=True))\n",
        "model.add(TimeDistributed(Dense(vocab_size, activation='softmax')))"
      ],
      "execution_count": null,
      "outputs": []
    },
    {
      "cell_type": "code",
      "metadata": {
        "colab": {
          "base_uri": "https://localhost:8080/"
        },
        "id": "bEHiSAXj4a9C",
        "outputId": "9d6316dd-0a5b-4246-c005-240fbf13366d"
      },
      "source": [
        "model.compile(loss='categorical_crossentropy', optimizer='adam', metrics=['accuracy'])\n",
        "model.fit(train_X, train_y, epochs=80, verbose=2)"
      ],
      "execution_count": null,
      "outputs": [
        {
          "output_type": "stream",
          "name": "stdout",
          "text": [
            "Epoch 1/80\n",
            "84/84 - 7s - loss: 2.1437 - accuracy: 0.3874 - 7s/epoch - 78ms/step\n",
            "Epoch 2/80\n",
            "84/84 - 3s - loss: 2.0559 - accuracy: 0.4093 - 3s/epoch - 34ms/step\n",
            "Epoch 3/80\n",
            "84/84 - 3s - loss: 1.9847 - accuracy: 0.4252 - 3s/epoch - 34ms/step\n",
            "Epoch 4/80\n",
            "84/84 - 3s - loss: 1.9195 - accuracy: 0.4416 - 3s/epoch - 34ms/step\n",
            "Epoch 5/80\n",
            "84/84 - 3s - loss: 1.8546 - accuracy: 0.4613 - 3s/epoch - 34ms/step\n",
            "Epoch 6/80\n",
            "84/84 - 3s - loss: 1.7998 - accuracy: 0.4762 - 3s/epoch - 34ms/step\n",
            "Epoch 7/80\n",
            "84/84 - 3s - loss: 1.7405 - accuracy: 0.4925 - 3s/epoch - 34ms/step\n",
            "Epoch 8/80\n",
            "84/84 - 3s - loss: 1.6909 - accuracy: 0.5053 - 3s/epoch - 34ms/step\n",
            "Epoch 9/80\n",
            "84/84 - 3s - loss: 1.6408 - accuracy: 0.5189 - 3s/epoch - 34ms/step\n",
            "Epoch 10/80\n",
            "84/84 - 3s - loss: 1.5953 - accuracy: 0.5309 - 3s/epoch - 34ms/step\n",
            "Epoch 11/80\n",
            "84/84 - 3s - loss: 1.5545 - accuracy: 0.5413 - 3s/epoch - 34ms/step\n",
            "Epoch 12/80\n",
            "84/84 - 3s - loss: 1.5123 - accuracy: 0.5524 - 3s/epoch - 34ms/step\n",
            "Epoch 13/80\n",
            "84/84 - 3s - loss: 1.4725 - accuracy: 0.5630 - 3s/epoch - 34ms/step\n",
            "Epoch 14/80\n",
            "84/84 - 3s - loss: 1.4379 - accuracy: 0.5729 - 3s/epoch - 34ms/step\n",
            "Epoch 15/80\n",
            "84/84 - 3s - loss: 1.4026 - accuracy: 0.5825 - 3s/epoch - 34ms/step\n",
            "Epoch 16/80\n",
            "84/84 - 3s - loss: 1.3705 - accuracy: 0.5919 - 3s/epoch - 34ms/step\n",
            "Epoch 17/80\n",
            "84/84 - 3s - loss: 1.3372 - accuracy: 0.6001 - 3s/epoch - 34ms/step\n",
            "Epoch 18/80\n",
            "84/84 - 3s - loss: 1.3049 - accuracy: 0.6108 - 3s/epoch - 34ms/step\n",
            "Epoch 19/80\n",
            "84/84 - 3s - loss: 1.2733 - accuracy: 0.6190 - 3s/epoch - 34ms/step\n",
            "Epoch 20/80\n",
            "84/84 - 3s - loss: 1.2418 - accuracy: 0.6278 - 3s/epoch - 34ms/step\n",
            "Epoch 21/80\n",
            "84/84 - 3s - loss: 1.2145 - accuracy: 0.6361 - 3s/epoch - 34ms/step\n",
            "Epoch 22/80\n",
            "84/84 - 3s - loss: 1.1870 - accuracy: 0.6445 - 3s/epoch - 34ms/step\n",
            "Epoch 23/80\n",
            "84/84 - 3s - loss: 1.1546 - accuracy: 0.6527 - 3s/epoch - 34ms/step\n",
            "Epoch 24/80\n",
            "84/84 - 3s - loss: 1.1216 - accuracy: 0.6634 - 3s/epoch - 34ms/step\n",
            "Epoch 25/80\n",
            "84/84 - 3s - loss: 1.0911 - accuracy: 0.6725 - 3s/epoch - 34ms/step\n",
            "Epoch 26/80\n",
            "84/84 - 3s - loss: 1.0654 - accuracy: 0.6801 - 3s/epoch - 34ms/step\n",
            "Epoch 27/80\n",
            "84/84 - 3s - loss: 1.0343 - accuracy: 0.6884 - 3s/epoch - 34ms/step\n",
            "Epoch 28/80\n",
            "84/84 - 3s - loss: 0.9990 - accuracy: 0.7006 - 3s/epoch - 34ms/step\n",
            "Epoch 29/80\n",
            "84/84 - 3s - loss: 0.9689 - accuracy: 0.7097 - 3s/epoch - 34ms/step\n",
            "Epoch 30/80\n",
            "84/84 - 3s - loss: 0.9394 - accuracy: 0.7191 - 3s/epoch - 34ms/step\n",
            "Epoch 31/80\n",
            "84/84 - 3s - loss: 0.9099 - accuracy: 0.7279 - 3s/epoch - 34ms/step\n",
            "Epoch 32/80\n",
            "84/84 - 3s - loss: 0.8839 - accuracy: 0.7365 - 3s/epoch - 34ms/step\n",
            "Epoch 33/80\n",
            "84/84 - 3s - loss: 0.8539 - accuracy: 0.7460 - 3s/epoch - 34ms/step\n",
            "Epoch 34/80\n",
            "84/84 - 3s - loss: 0.8213 - accuracy: 0.7562 - 3s/epoch - 34ms/step\n",
            "Epoch 35/80\n",
            "84/84 - 3s - loss: 0.7936 - accuracy: 0.7652 - 3s/epoch - 34ms/step\n",
            "Epoch 36/80\n",
            "84/84 - 3s - loss: 0.7612 - accuracy: 0.7764 - 3s/epoch - 34ms/step\n",
            "Epoch 37/80\n",
            "84/84 - 3s - loss: 0.7362 - accuracy: 0.7834 - 3s/epoch - 34ms/step\n",
            "Epoch 38/80\n",
            "84/84 - 3s - loss: 0.7083 - accuracy: 0.7936 - 3s/epoch - 34ms/step\n",
            "Epoch 39/80\n",
            "84/84 - 3s - loss: 0.6846 - accuracy: 0.8015 - 3s/epoch - 34ms/step\n",
            "Epoch 40/80\n",
            "84/84 - 3s - loss: 0.6476 - accuracy: 0.8144 - 3s/epoch - 34ms/step\n",
            "Epoch 41/80\n",
            "84/84 - 3s - loss: 0.6243 - accuracy: 0.8214 - 3s/epoch - 34ms/step\n",
            "Epoch 42/80\n",
            "84/84 - 3s - loss: 0.6024 - accuracy: 0.8277 - 3s/epoch - 34ms/step\n",
            "Epoch 43/80\n",
            "84/84 - 3s - loss: 0.5825 - accuracy: 0.8343 - 3s/epoch - 34ms/step\n",
            "Epoch 44/80\n",
            "84/84 - 3s - loss: 0.5552 - accuracy: 0.8437 - 3s/epoch - 34ms/step\n",
            "Epoch 45/80\n",
            "84/84 - 3s - loss: 0.5368 - accuracy: 0.8493 - 3s/epoch - 34ms/step\n",
            "Epoch 46/80\n",
            "84/84 - 3s - loss: 0.5078 - accuracy: 0.8598 - 3s/epoch - 34ms/step\n",
            "Epoch 47/80\n",
            "84/84 - 3s - loss: 0.4833 - accuracy: 0.8682 - 3s/epoch - 34ms/step\n",
            "Epoch 48/80\n",
            "84/84 - 3s - loss: 0.4660 - accuracy: 0.8728 - 3s/epoch - 34ms/step\n",
            "Epoch 49/80\n",
            "84/84 - 3s - loss: 0.4450 - accuracy: 0.8807 - 3s/epoch - 34ms/step\n",
            "Epoch 50/80\n",
            "84/84 - 3s - loss: 0.4365 - accuracy: 0.8813 - 3s/epoch - 34ms/step\n",
            "Epoch 51/80\n",
            "84/84 - 3s - loss: 0.4078 - accuracy: 0.8920 - 3s/epoch - 34ms/step\n",
            "Epoch 52/80\n",
            "84/84 - 3s - loss: 0.3822 - accuracy: 0.9010 - 3s/epoch - 34ms/step\n",
            "Epoch 53/80\n",
            "84/84 - 3s - loss: 0.3717 - accuracy: 0.9039 - 3s/epoch - 34ms/step\n",
            "Epoch 54/80\n",
            "84/84 - 3s - loss: 0.3615 - accuracy: 0.9070 - 3s/epoch - 34ms/step\n",
            "Epoch 55/80\n",
            "84/84 - 3s - loss: 0.3501 - accuracy: 0.9094 - 3s/epoch - 34ms/step\n",
            "Epoch 56/80\n",
            "84/84 - 3s - loss: 0.3231 - accuracy: 0.9194 - 3s/epoch - 34ms/step\n",
            "Epoch 57/80\n",
            "84/84 - 3s - loss: 0.3153 - accuracy: 0.9217 - 3s/epoch - 34ms/step\n",
            "Epoch 58/80\n",
            "84/84 - 3s - loss: 0.3004 - accuracy: 0.9260 - 3s/epoch - 34ms/step\n",
            "Epoch 59/80\n",
            "84/84 - 3s - loss: 0.2865 - accuracy: 0.9306 - 3s/epoch - 34ms/step\n",
            "Epoch 60/80\n",
            "84/84 - 3s - loss: 0.2825 - accuracy: 0.9303 - 3s/epoch - 34ms/step\n",
            "Epoch 61/80\n",
            "84/84 - 3s - loss: 0.2629 - accuracy: 0.9376 - 3s/epoch - 34ms/step\n",
            "Epoch 62/80\n",
            "84/84 - 3s - loss: 0.2391 - accuracy: 0.9456 - 3s/epoch - 34ms/step\n",
            "Epoch 63/80\n",
            "84/84 - 3s - loss: 0.2345 - accuracy: 0.9457 - 3s/epoch - 34ms/step\n",
            "Epoch 64/80\n",
            "84/84 - 3s - loss: 0.2261 - accuracy: 0.9479 - 3s/epoch - 34ms/step\n",
            "Epoch 65/80\n",
            "84/84 - 3s - loss: 0.2346 - accuracy: 0.9435 - 3s/epoch - 34ms/step\n",
            "Epoch 66/80\n",
            "84/84 - 3s - loss: 0.2235 - accuracy: 0.9472 - 3s/epoch - 34ms/step\n",
            "Epoch 67/80\n",
            "84/84 - 3s - loss: 0.2130 - accuracy: 0.9499 - 3s/epoch - 34ms/step\n",
            "Epoch 68/80\n",
            "84/84 - 3s - loss: 0.1949 - accuracy: 0.9554 - 3s/epoch - 34ms/step\n",
            "Epoch 69/80\n",
            "84/84 - 3s - loss: 0.1875 - accuracy: 0.9568 - 3s/epoch - 34ms/step\n",
            "Epoch 70/80\n",
            "84/84 - 3s - loss: 0.1765 - accuracy: 0.9591 - 3s/epoch - 34ms/step\n",
            "Epoch 71/80\n",
            "84/84 - 3s - loss: 0.1745 - accuracy: 0.9589 - 3s/epoch - 34ms/step\n",
            "Epoch 72/80\n",
            "84/84 - 3s - loss: 0.1672 - accuracy: 0.9605 - 3s/epoch - 34ms/step\n",
            "Epoch 73/80\n",
            "84/84 - 3s - loss: 0.1693 - accuracy: 0.9598 - 3s/epoch - 34ms/step\n",
            "Epoch 74/80\n",
            "84/84 - 3s - loss: 0.1786 - accuracy: 0.9561 - 3s/epoch - 34ms/step\n",
            "Epoch 75/80\n",
            "84/84 - 3s - loss: 0.1918 - accuracy: 0.9511 - 3s/epoch - 34ms/step\n",
            "Epoch 76/80\n",
            "84/84 - 3s - loss: 0.2107 - accuracy: 0.9435 - 3s/epoch - 34ms/step\n",
            "Epoch 77/80\n",
            "84/84 - 3s - loss: 0.2124 - accuracy: 0.9424 - 3s/epoch - 34ms/step\n",
            "Epoch 78/80\n",
            "84/84 - 3s - loss: 0.2362 - accuracy: 0.9320 - 3s/epoch - 34ms/step\n",
            "Epoch 79/80\n",
            "84/84 - 3s - loss: 0.2162 - accuracy: 0.9392 - 3s/epoch - 34ms/step\n",
            "Epoch 80/80\n",
            "84/84 - 3s - loss: 0.1844 - accuracy: 0.9517 - 3s/epoch - 34ms/step\n"
          ]
        },
        {
          "output_type": "execute_result",
          "data": {
            "text/plain": [
              "<keras.callbacks.History at 0x7fd8201b5a50>"
            ]
          },
          "metadata": {},
          "execution_count": 19
        }
      ]
    },
    {
      "cell_type": "code",
      "metadata": {
        "id": "ZBqL3uzj4cDB"
      },
      "source": [
        "def sentence_generation(model, length):\n",
        "    # 글자에 대한 랜덤 인덱스 생성\n",
        "    ix = [np.random.randint(vocab_size)]\n",
        "\n",
        "    # 랜덤 익덱스로부터 글자 생성\n",
        "    y_char = [index_to_char[ix[-1]]]\n",
        "    print(ix[-1],'번 글자',y_char[-1],'로 예측을 시작!')\n",
        "\n",
        "    # (1, length, 55) 크기의 X 생성. 즉, LSTM의 입력 시퀀스 생성\n",
        "    X = np.zeros((1, length, vocab_size))\n",
        "\n",
        "    for i in range(length):\n",
        "        # X[0][i][예측한 글자의 인덱스] = 1, 즉, 예측 글자를 다음 입력 시퀀스에 추가\n",
        "        X[0][i][ix[-1]] = 1\n",
        "        print(index_to_char[ix[-1]], end=\"\")\n",
        "        ix = np.argmax(model.predict(X[:, :i+1, :])[0], 1)\n",
        "        y_char.append(index_to_char[ix[-1]])\n",
        "    return ('').join(y_char)"
      ],
      "execution_count": null,
      "outputs": []
    },
    {
      "cell_type": "code",
      "metadata": {
        "colab": {
          "base_uri": "https://localhost:8080/"
        },
        "id": "06KsxSG34iDq",
        "outputId": "6df5e90c-62e8-479e-dfad-fc43b418ef63"
      },
      "source": [
        "result = sentence_generation(model, 100)\n",
        "print(result)"
      ],
      "execution_count": null,
      "outputs": [
        {
          "output_type": "stream",
          "name": "stdout",
          "text": [
            "36 번 글자 g 로 예측을 시작!\n",
            "g down to the end of his tail. as if _i_ would talk on such a time for a morelan marks and just as ig down to the end of his tail. as if _i_ would talk on such a time for a morelan marks and just as if\n"
          ]
        }
      ]
    },
    {
      "cell_type": "markdown",
      "metadata": {
        "id": "7VoCPbco4k6I"
      },
      "source": [
        "## 2. 글자 단위 RNN(Char RNN)으로 텍스트 생성하기"
      ]
    },
    {
      "cell_type": "markdown",
      "metadata": {
        "id": "NbjtrjDY4tPe"
      },
      "source": [
        "### 1) 데이터에 대한 이해와 전처리"
      ]
    },
    {
      "cell_type": "code",
      "metadata": {
        "id": "Yy16NDAP4jUV"
      },
      "source": [
        "import numpy as np\n",
        "from tensorflow.keras.utils import to_categorical"
      ],
      "execution_count": null,
      "outputs": []
    },
    {
      "cell_type": "code",
      "metadata": {
        "id": "xpgXw80s41Y1"
      },
      "source": [
        "# 임의로 만든 노래가사\n",
        "raw_text = '''\n",
        "I get on with life as a programmer,\n",
        "I like to contemplate beer.\n",
        "But when I start to daydream,\n",
        "My mind turns straight to wine.\n",
        "\n",
        "Do I love wine more than beer?\n",
        "\n",
        "I like to use words about beer.\n",
        "But when I stop my talking,\n",
        "My mind turns straight to wine.\n",
        "\n",
        "I hate bugs and errors.\n",
        "But I just think back to wine,\n",
        "And I'm happy once again.\n",
        "\n",
        "I like to hang out with programming and deep learning.\n",
        "But when left alone,\n",
        "My mind turns straight to wine.\n",
        "'''"
      ],
      "execution_count": null,
      "outputs": []
    },
    {
      "cell_type": "code",
      "metadata": {
        "colab": {
          "base_uri": "https://localhost:8080/"
        },
        "id": "8PT67tQE43ns",
        "outputId": "c280f09b-7dce-4d4f-a495-b73f9341a715"
      },
      "source": [
        "# 단락 없애고 하나의 문자열로 재저장\n",
        "tokens = raw_text.split()\n",
        "raw_text = ' '.join(tokens)\n",
        "print(raw_text)"
      ],
      "execution_count": null,
      "outputs": [
        {
          "output_type": "stream",
          "name": "stdout",
          "text": [
            "I get on with life as a programmer, I like to contemplate beer. But when I start to daydream, My mind turns straight to wine. Do I love wine more than beer? I like to use words about beer. But when I stop my talking, My mind turns straight to wine. I hate bugs and errors. But I just think back to wine, And I'm happy once again. I like to hang out with programming and deep learning. But when left alone, My mind turns straight to wine.\n"
          ]
        }
      ]
    },
    {
      "cell_type": "code",
      "metadata": {
        "colab": {
          "base_uri": "https://localhost:8080/"
        },
        "id": "UlyeNKft5BXN",
        "outputId": "69b2f728-5dd6-4dfb-8a4b-8e464dda454f"
      },
      "source": [
        "# 중복을 제거한 글자 집합 생성\n",
        "char_vocab = sorted(list(set(raw_text)))\n",
        "print(char_vocab)"
      ],
      "execution_count": null,
      "outputs": [
        {
          "output_type": "stream",
          "name": "stdout",
          "text": [
            "[' ', \"'\", ',', '.', '?', 'A', 'B', 'D', 'I', 'M', 'a', 'b', 'c', 'd', 'e', 'f', 'g', 'h', 'i', 'j', 'k', 'l', 'm', 'n', 'o', 'p', 'r', 's', 't', 'u', 'v', 'w', 'y']\n"
          ]
        }
      ]
    },
    {
      "cell_type": "code",
      "metadata": {
        "colab": {
          "base_uri": "https://localhost:8080/"
        },
        "id": "PagX-OJD5DP5",
        "outputId": "6ebc237b-0c38-4b23-db56-47ea20160bc6"
      },
      "source": [
        "vocab_size = len(char_vocab)\n",
        "print ('글자 집합의 크기 : {}'.format(vocab_size))"
      ],
      "execution_count": null,
      "outputs": [
        {
          "output_type": "stream",
          "name": "stdout",
          "text": [
            "글자 집합의 크기 : 33\n"
          ]
        }
      ]
    },
    {
      "cell_type": "code",
      "metadata": {
        "colab": {
          "base_uri": "https://localhost:8080/"
        },
        "id": "N9oqXKaE5FOY",
        "outputId": "e45c5727-237f-462e-8cde-3c38f2da5dea"
      },
      "source": [
        "char_to_index = dict((char, index) for index, char in enumerate(char_vocab)) # 글자에 고유한 정수 인덱스 부여\n",
        "print(char_to_index)"
      ],
      "execution_count": null,
      "outputs": [
        {
          "output_type": "stream",
          "name": "stdout",
          "text": [
            "{' ': 0, \"'\": 1, ',': 2, '.': 3, '?': 4, 'A': 5, 'B': 6, 'D': 7, 'I': 8, 'M': 9, 'a': 10, 'b': 11, 'c': 12, 'd': 13, 'e': 14, 'f': 15, 'g': 16, 'h': 17, 'i': 18, 'j': 19, 'k': 20, 'l': 21, 'm': 22, 'n': 23, 'o': 24, 'p': 25, 'r': 26, 's': 27, 't': 28, 'u': 29, 'v': 30, 'w': 31, 'y': 32}\n"
          ]
        }
      ]
    },
    {
      "cell_type": "code",
      "metadata": {
        "colab": {
          "base_uri": "https://localhost:8080/"
        },
        "id": "DEh0P8k-5JKR",
        "outputId": "243c6b91-a3e8-4371-bfcf-040a492c2343"
      },
      "source": [
        "length = 11\n",
        "sequences = []\n",
        "for i in range(length, len(raw_text)):\n",
        "    seq = raw_text[i-length:i] # 길이 11의 문자열을 지속적으로 만든다.\n",
        "    sequences.append(seq)\n",
        "print('총 훈련 샘플의 수: %d' % len(sequences))"
      ],
      "execution_count": null,
      "outputs": [
        {
          "output_type": "stream",
          "name": "stdout",
          "text": [
            "총 훈련 샘플의 수: 426\n"
          ]
        }
      ]
    },
    {
      "cell_type": "code",
      "metadata": {
        "colab": {
          "base_uri": "https://localhost:8080/"
        },
        "id": "qwDrUp0o5OPv",
        "outputId": "f56d7e16-b142-4579-f9be-1937476e7fb1"
      },
      "source": [
        "sequences[:10]"
      ],
      "execution_count": null,
      "outputs": [
        {
          "output_type": "execute_result",
          "data": {
            "text/plain": [
              "['I get on wi',\n",
              " ' get on wit',\n",
              " 'get on with',\n",
              " 'et on with ',\n",
              " 't on with l',\n",
              " ' on with li',\n",
              " 'on with lif',\n",
              " 'n with life',\n",
              " ' with life ',\n",
              " 'with life a']"
            ]
          },
          "metadata": {},
          "execution_count": 29
        }
      ]
    },
    {
      "cell_type": "code",
      "metadata": {
        "id": "oHbMiwXS5Pfj"
      },
      "source": [
        "# 정수 인코딩\n",
        "encoded_sequences = []\n",
        "for sequence in sequences: # 전체 데이터에서 문장 샘플을 1개씩 꺼낸다.\n",
        "    encoded_sequence = [char_to_index[char] for char in sequence] # 문장 샘플에서 각 글자에 대해서 정수 인코딩을 수행.\n",
        "    encoded_sequences.append(encoded_sequence)"
      ],
      "execution_count": null,
      "outputs": []
    },
    {
      "cell_type": "code",
      "metadata": {
        "colab": {
          "base_uri": "https://localhost:8080/"
        },
        "id": "t7Ag59yp5TvA",
        "outputId": "d791288d-908c-4c7b-a487-316f54deb08b"
      },
      "source": [
        "encoded_sequences[:5]"
      ],
      "execution_count": null,
      "outputs": [
        {
          "output_type": "execute_result",
          "data": {
            "text/plain": [
              "[[8, 0, 16, 14, 28, 0, 24, 23, 0, 31, 18],\n",
              " [0, 16, 14, 28, 0, 24, 23, 0, 31, 18, 28],\n",
              " [16, 14, 28, 0, 24, 23, 0, 31, 18, 28, 17],\n",
              " [14, 28, 0, 24, 23, 0, 31, 18, 28, 17, 0],\n",
              " [28, 0, 24, 23, 0, 31, 18, 28, 17, 0, 21]]"
            ]
          },
          "metadata": {},
          "execution_count": 31
        }
      ]
    },
    {
      "cell_type": "code",
      "metadata": {
        "id": "9IA27l8p5UvU"
      },
      "source": [
        "encoded_sequences = np.array(encoded_sequences)\n",
        "X_data = encoded_sequences[:,:-1]\n",
        "\n",
        "# 맨 마지막 위치의 글자를 분리\n",
        "y_data = encoded_sequences[:,-1]"
      ],
      "execution_count": null,
      "outputs": []
    },
    {
      "cell_type": "code",
      "metadata": {
        "colab": {
          "base_uri": "https://localhost:8080/"
        },
        "id": "SXkgnM0J5V52",
        "outputId": "505c90d9-4c0c-4874-b431-dc4fb236a3ec"
      },
      "source": [
        "print(X_data[:5])\n",
        "print(y_data[:5])"
      ],
      "execution_count": null,
      "outputs": [
        {
          "output_type": "stream",
          "name": "stdout",
          "text": [
            "[[ 8  0 16 14 28  0 24 23  0 31]\n",
            " [ 0 16 14 28  0 24 23  0 31 18]\n",
            " [16 14 28  0 24 23  0 31 18 28]\n",
            " [14 28  0 24 23  0 31 18 28 17]\n",
            " [28  0 24 23  0 31 18 28 17  0]]\n",
            "[18 28 17  0 21]\n"
          ]
        }
      ]
    },
    {
      "cell_type": "code",
      "metadata": {
        "id": "UScbvzN-5W2N"
      },
      "source": [
        "# 원-핫 인코딩\n",
        "X_data_one_hot = [to_categorical(encoded, num_classes=vocab_size) for encoded in X_data]\n",
        "X_data_one_hot = np.array(X_data_one_hot)\n",
        "y_data_one_hot = to_categorical(y_data, num_classes=vocab_size)"
      ],
      "execution_count": null,
      "outputs": []
    },
    {
      "cell_type": "code",
      "metadata": {
        "colab": {
          "base_uri": "https://localhost:8080/"
        },
        "id": "I4QzETbe5YIV",
        "outputId": "6769d5a3-266f-48f9-bdbc-51caba90f92f"
      },
      "source": [
        "print(X_data_one_hot.shape)"
      ],
      "execution_count": null,
      "outputs": [
        {
          "output_type": "stream",
          "name": "stdout",
          "text": [
            "(426, 10, 33)\n"
          ]
        }
      ]
    },
    {
      "cell_type": "markdown",
      "metadata": {
        "id": "It_VuDwY5asR"
      },
      "source": [
        "### 2) 모델 설계하기"
      ]
    },
    {
      "cell_type": "code",
      "metadata": {
        "id": "KH6rx22C5ZtA"
      },
      "source": [
        "from tensorflow.keras.models import Sequential\n",
        "from tensorflow.keras.layers import Dense, LSTM\n",
        "from tensorflow.keras.preprocessing.sequence import pad_sequences"
      ],
      "execution_count": null,
      "outputs": []
    },
    {
      "cell_type": "code",
      "metadata": {
        "id": "bUU-W6Au5dcm"
      },
      "source": [
        "hidden_units = 64\n",
        "\n",
        "model = Sequential()\n",
        "model.add(LSTM(hidden_units, input_shape=(X_data_one_hot.shape[1], X_data_one_hot.shape[2])))\n",
        "model.add(Dense(vocab_size, activation='softmax'))"
      ],
      "execution_count": null,
      "outputs": []
    },
    {
      "cell_type": "code",
      "metadata": {
        "colab": {
          "base_uri": "https://localhost:8080/"
        },
        "id": "kzhWQwGh5fG0",
        "outputId": "7d919728-fba6-4d65-eb0e-fe5500c4dc03"
      },
      "source": [
        "model.compile(loss='categorical_crossentropy', optimizer='adam', metrics=['accuracy'])\n",
        "model.fit(X_data_one_hot, y_data_one_hot, epochs=100, verbose=2)"
      ],
      "execution_count": null,
      "outputs": [
        {
          "output_type": "stream",
          "name": "stdout",
          "text": [
            "Epoch 1/100\n",
            "14/14 - 2s - loss: 3.4725 - accuracy: 0.1174 - 2s/epoch - 143ms/step\n",
            "Epoch 2/100\n",
            "14/14 - 0s - loss: 3.3643 - accuracy: 0.1995 - 74ms/epoch - 5ms/step\n",
            "Epoch 3/100\n",
            "14/14 - 0s - loss: 3.1134 - accuracy: 0.1972 - 69ms/epoch - 5ms/step\n",
            "Epoch 4/100\n",
            "14/14 - 0s - loss: 2.9987 - accuracy: 0.1972 - 79ms/epoch - 6ms/step\n",
            "Epoch 5/100\n",
            "14/14 - 0s - loss: 2.9604 - accuracy: 0.1972 - 78ms/epoch - 6ms/step\n",
            "Epoch 6/100\n",
            "14/14 - 0s - loss: 2.9479 - accuracy: 0.1972 - 75ms/epoch - 5ms/step\n",
            "Epoch 7/100\n",
            "14/14 - 0s - loss: 2.9298 - accuracy: 0.1972 - 79ms/epoch - 6ms/step\n",
            "Epoch 8/100\n",
            "14/14 - 0s - loss: 2.9099 - accuracy: 0.1972 - 72ms/epoch - 5ms/step\n",
            "Epoch 9/100\n",
            "14/14 - 0s - loss: 2.8955 - accuracy: 0.1972 - 73ms/epoch - 5ms/step\n",
            "Epoch 10/100\n",
            "14/14 - 0s - loss: 2.8684 - accuracy: 0.1972 - 73ms/epoch - 5ms/step\n",
            "Epoch 11/100\n",
            "14/14 - 0s - loss: 2.8459 - accuracy: 0.1972 - 72ms/epoch - 5ms/step\n",
            "Epoch 12/100\n",
            "14/14 - 0s - loss: 2.8111 - accuracy: 0.1972 - 73ms/epoch - 5ms/step\n",
            "Epoch 13/100\n",
            "14/14 - 0s - loss: 2.7800 - accuracy: 0.2019 - 81ms/epoch - 6ms/step\n",
            "Epoch 14/100\n",
            "14/14 - 0s - loss: 2.7630 - accuracy: 0.2183 - 78ms/epoch - 6ms/step\n",
            "Epoch 15/100\n",
            "14/14 - 0s - loss: 2.7193 - accuracy: 0.2347 - 75ms/epoch - 5ms/step\n",
            "Epoch 16/100\n",
            "14/14 - 0s - loss: 2.6620 - accuracy: 0.2488 - 78ms/epoch - 6ms/step\n",
            "Epoch 17/100\n",
            "14/14 - 0s - loss: 2.6402 - accuracy: 0.2535 - 80ms/epoch - 6ms/step\n",
            "Epoch 18/100\n",
            "14/14 - 0s - loss: 2.6228 - accuracy: 0.2371 - 74ms/epoch - 5ms/step\n",
            "Epoch 19/100\n",
            "14/14 - 0s - loss: 2.5742 - accuracy: 0.2817 - 75ms/epoch - 5ms/step\n",
            "Epoch 20/100\n",
            "14/14 - 0s - loss: 2.5269 - accuracy: 0.2840 - 73ms/epoch - 5ms/step\n",
            "Epoch 21/100\n",
            "14/14 - 0s - loss: 2.4962 - accuracy: 0.2817 - 80ms/epoch - 6ms/step\n",
            "Epoch 22/100\n",
            "14/14 - 0s - loss: 2.4676 - accuracy: 0.2840 - 75ms/epoch - 5ms/step\n",
            "Epoch 23/100\n",
            "14/14 - 0s - loss: 2.4056 - accuracy: 0.3192 - 72ms/epoch - 5ms/step\n",
            "Epoch 24/100\n",
            "14/14 - 0s - loss: 2.3623 - accuracy: 0.3122 - 72ms/epoch - 5ms/step\n",
            "Epoch 25/100\n",
            "14/14 - 0s - loss: 2.3036 - accuracy: 0.3146 - 75ms/epoch - 5ms/step\n",
            "Epoch 26/100\n",
            "14/14 - 0s - loss: 2.2687 - accuracy: 0.3357 - 74ms/epoch - 5ms/step\n",
            "Epoch 27/100\n",
            "14/14 - 0s - loss: 2.2276 - accuracy: 0.3568 - 78ms/epoch - 6ms/step\n",
            "Epoch 28/100\n",
            "14/14 - 0s - loss: 2.1813 - accuracy: 0.3638 - 84ms/epoch - 6ms/step\n",
            "Epoch 29/100\n",
            "14/14 - 0s - loss: 2.1386 - accuracy: 0.4155 - 71ms/epoch - 5ms/step\n",
            "Epoch 30/100\n",
            "14/14 - 0s - loss: 2.0807 - accuracy: 0.4178 - 71ms/epoch - 5ms/step\n",
            "Epoch 31/100\n",
            "14/14 - 0s - loss: 2.0405 - accuracy: 0.4437 - 71ms/epoch - 5ms/step\n",
            "Epoch 32/100\n",
            "14/14 - 0s - loss: 2.0689 - accuracy: 0.3685 - 73ms/epoch - 5ms/step\n",
            "Epoch 33/100\n",
            "14/14 - 0s - loss: 1.9697 - accuracy: 0.4718 - 73ms/epoch - 5ms/step\n",
            "Epoch 34/100\n",
            "14/14 - 0s - loss: 1.9292 - accuracy: 0.4624 - 70ms/epoch - 5ms/step\n",
            "Epoch 35/100\n",
            "14/14 - 0s - loss: 1.8892 - accuracy: 0.4906 - 77ms/epoch - 6ms/step\n",
            "Epoch 36/100\n",
            "14/14 - 0s - loss: 1.8736 - accuracy: 0.4836 - 73ms/epoch - 5ms/step\n",
            "Epoch 37/100\n",
            "14/14 - 0s - loss: 1.8201 - accuracy: 0.5469 - 71ms/epoch - 5ms/step\n",
            "Epoch 38/100\n",
            "14/14 - 0s - loss: 1.7785 - accuracy: 0.5399 - 72ms/epoch - 5ms/step\n",
            "Epoch 39/100\n",
            "14/14 - 0s - loss: 1.7441 - accuracy: 0.5305 - 73ms/epoch - 5ms/step\n",
            "Epoch 40/100\n",
            "14/14 - 0s - loss: 1.7397 - accuracy: 0.5376 - 73ms/epoch - 5ms/step\n",
            "Epoch 41/100\n",
            "14/14 - 0s - loss: 1.6828 - accuracy: 0.5634 - 79ms/epoch - 6ms/step\n",
            "Epoch 42/100\n",
            "14/14 - 0s - loss: 1.6210 - accuracy: 0.6009 - 72ms/epoch - 5ms/step\n",
            "Epoch 43/100\n",
            "14/14 - 0s - loss: 1.5881 - accuracy: 0.5892 - 82ms/epoch - 6ms/step\n",
            "Epoch 44/100\n",
            "14/14 - 0s - loss: 1.5707 - accuracy: 0.6150 - 79ms/epoch - 6ms/step\n",
            "Epoch 45/100\n",
            "14/14 - 0s - loss: 1.5117 - accuracy: 0.6502 - 74ms/epoch - 5ms/step\n",
            "Epoch 46/100\n",
            "14/14 - 0s - loss: 1.4747 - accuracy: 0.6455 - 74ms/epoch - 5ms/step\n",
            "Epoch 47/100\n",
            "14/14 - 0s - loss: 1.4624 - accuracy: 0.6338 - 73ms/epoch - 5ms/step\n",
            "Epoch 48/100\n",
            "14/14 - 0s - loss: 1.4025 - accuracy: 0.6761 - 72ms/epoch - 5ms/step\n",
            "Epoch 49/100\n",
            "14/14 - 0s - loss: 1.3773 - accuracy: 0.6714 - 75ms/epoch - 5ms/step\n",
            "Epoch 50/100\n",
            "14/14 - 0s - loss: 1.3303 - accuracy: 0.6784 - 84ms/epoch - 6ms/step\n",
            "Epoch 51/100\n",
            "14/14 - 0s - loss: 1.3026 - accuracy: 0.7066 - 73ms/epoch - 5ms/step\n",
            "Epoch 52/100\n",
            "14/14 - 0s - loss: 1.2793 - accuracy: 0.6854 - 74ms/epoch - 5ms/step\n",
            "Epoch 53/100\n",
            "14/14 - 0s - loss: 1.2664 - accuracy: 0.7066 - 77ms/epoch - 5ms/step\n",
            "Epoch 54/100\n",
            "14/14 - 0s - loss: 1.2388 - accuracy: 0.6831 - 80ms/epoch - 6ms/step\n",
            "Epoch 55/100\n",
            "14/14 - 0s - loss: 1.1837 - accuracy: 0.7300 - 72ms/epoch - 5ms/step\n",
            "Epoch 56/100\n",
            "14/14 - 0s - loss: 1.1571 - accuracy: 0.7347 - 71ms/epoch - 5ms/step\n",
            "Epoch 57/100\n",
            "14/14 - 0s - loss: 1.1174 - accuracy: 0.7488 - 72ms/epoch - 5ms/step\n",
            "Epoch 58/100\n",
            "14/14 - 0s - loss: 1.0807 - accuracy: 0.7347 - 89ms/epoch - 6ms/step\n",
            "Epoch 59/100\n",
            "14/14 - 0s - loss: 1.0478 - accuracy: 0.7676 - 77ms/epoch - 5ms/step\n",
            "Epoch 60/100\n",
            "14/14 - 0s - loss: 1.0285 - accuracy: 0.7770 - 72ms/epoch - 5ms/step\n",
            "Epoch 61/100\n",
            "14/14 - 0s - loss: 1.0001 - accuracy: 0.7629 - 73ms/epoch - 5ms/step\n",
            "Epoch 62/100\n",
            "14/14 - 0s - loss: 0.9723 - accuracy: 0.7981 - 74ms/epoch - 5ms/step\n",
            "Epoch 63/100\n",
            "14/14 - 0s - loss: 0.9434 - accuracy: 0.7840 - 72ms/epoch - 5ms/step\n",
            "Epoch 64/100\n",
            "14/14 - 0s - loss: 0.9234 - accuracy: 0.8005 - 79ms/epoch - 6ms/step\n",
            "Epoch 65/100\n",
            "14/14 - 0s - loss: 0.8862 - accuracy: 0.8169 - 76ms/epoch - 5ms/step\n",
            "Epoch 66/100\n",
            "14/14 - 0s - loss: 0.8575 - accuracy: 0.8357 - 82ms/epoch - 6ms/step\n",
            "Epoch 67/100\n",
            "14/14 - 0s - loss: 0.8373 - accuracy: 0.8357 - 71ms/epoch - 5ms/step\n",
            "Epoch 68/100\n",
            "14/14 - 0s - loss: 0.8149 - accuracy: 0.8451 - 72ms/epoch - 5ms/step\n",
            "Epoch 69/100\n",
            "14/14 - 0s - loss: 0.7791 - accuracy: 0.8592 - 71ms/epoch - 5ms/step\n",
            "Epoch 70/100\n",
            "14/14 - 0s - loss: 0.7612 - accuracy: 0.8615 - 81ms/epoch - 6ms/step\n",
            "Epoch 71/100\n",
            "14/14 - 0s - loss: 0.7437 - accuracy: 0.8545 - 73ms/epoch - 5ms/step\n",
            "Epoch 72/100\n",
            "14/14 - 0s - loss: 0.7185 - accuracy: 0.8592 - 73ms/epoch - 5ms/step\n",
            "Epoch 73/100\n",
            "14/14 - 0s - loss: 0.6977 - accuracy: 0.8826 - 74ms/epoch - 5ms/step\n",
            "Epoch 74/100\n",
            "14/14 - 0s - loss: 0.6667 - accuracy: 0.8991 - 76ms/epoch - 5ms/step\n",
            "Epoch 75/100\n",
            "14/14 - 0s - loss: 0.6459 - accuracy: 0.9085 - 72ms/epoch - 5ms/step\n",
            "Epoch 76/100\n",
            "14/14 - 0s - loss: 0.6388 - accuracy: 0.8944 - 71ms/epoch - 5ms/step\n",
            "Epoch 77/100\n",
            "14/14 - 0s - loss: 0.6240 - accuracy: 0.8944 - 76ms/epoch - 5ms/step\n",
            "Epoch 78/100\n",
            "14/14 - 0s - loss: 0.6133 - accuracy: 0.9014 - 81ms/epoch - 6ms/step\n",
            "Epoch 79/100\n",
            "14/14 - 0s - loss: 0.5828 - accuracy: 0.9108 - 71ms/epoch - 5ms/step\n",
            "Epoch 80/100\n",
            "14/14 - 0s - loss: 0.5638 - accuracy: 0.9178 - 79ms/epoch - 6ms/step\n",
            "Epoch 81/100\n",
            "14/14 - 0s - loss: 0.5346 - accuracy: 0.9178 - 72ms/epoch - 5ms/step\n",
            "Epoch 82/100\n",
            "14/14 - 0s - loss: 0.5338 - accuracy: 0.9225 - 75ms/epoch - 5ms/step\n",
            "Epoch 83/100\n",
            "14/14 - 0s - loss: 0.5093 - accuracy: 0.9249 - 74ms/epoch - 5ms/step\n",
            "Epoch 84/100\n",
            "14/14 - 0s - loss: 0.4878 - accuracy: 0.9296 - 74ms/epoch - 5ms/step\n",
            "Epoch 85/100\n",
            "14/14 - 0s - loss: 0.4826 - accuracy: 0.9319 - 77ms/epoch - 5ms/step\n",
            "Epoch 86/100\n",
            "14/14 - 0s - loss: 0.4593 - accuracy: 0.9319 - 74ms/epoch - 5ms/step\n",
            "Epoch 87/100\n",
            "14/14 - 0s - loss: 0.4512 - accuracy: 0.9437 - 76ms/epoch - 5ms/step\n",
            "Epoch 88/100\n",
            "14/14 - 0s - loss: 0.4446 - accuracy: 0.9272 - 78ms/epoch - 6ms/step\n",
            "Epoch 89/100\n",
            "14/14 - 0s - loss: 0.4186 - accuracy: 0.9366 - 73ms/epoch - 5ms/step\n",
            "Epoch 90/100\n",
            "14/14 - 0s - loss: 0.4138 - accuracy: 0.9319 - 74ms/epoch - 5ms/step\n",
            "Epoch 91/100\n",
            "14/14 - 0s - loss: 0.3883 - accuracy: 0.9507 - 75ms/epoch - 5ms/step\n",
            "Epoch 92/100\n",
            "14/14 - 0s - loss: 0.3781 - accuracy: 0.9554 - 74ms/epoch - 5ms/step\n",
            "Epoch 93/100\n",
            "14/14 - 0s - loss: 0.3703 - accuracy: 0.9507 - 73ms/epoch - 5ms/step\n",
            "Epoch 94/100\n",
            "14/14 - 0s - loss: 0.3570 - accuracy: 0.9437 - 74ms/epoch - 5ms/step\n",
            "Epoch 95/100\n",
            "14/14 - 0s - loss: 0.3531 - accuracy: 0.9577 - 74ms/epoch - 5ms/step\n",
            "Epoch 96/100\n",
            "14/14 - 0s - loss: 0.3398 - accuracy: 0.9577 - 74ms/epoch - 5ms/step\n",
            "Epoch 97/100\n",
            "14/14 - 0s - loss: 0.3207 - accuracy: 0.9601 - 80ms/epoch - 6ms/step\n",
            "Epoch 98/100\n",
            "14/14 - 0s - loss: 0.3141 - accuracy: 0.9577 - 76ms/epoch - 5ms/step\n",
            "Epoch 99/100\n",
            "14/14 - 0s - loss: 0.3051 - accuracy: 0.9648 - 71ms/epoch - 5ms/step\n",
            "Epoch 100/100\n",
            "14/14 - 0s - loss: 0.2994 - accuracy: 0.9695 - 71ms/epoch - 5ms/step\n"
          ]
        },
        {
          "output_type": "execute_result",
          "data": {
            "text/plain": [
              "<keras.callbacks.History at 0x7fd78290df50>"
            ]
          },
          "metadata": {},
          "execution_count": 38
        }
      ]
    },
    {
      "cell_type": "code",
      "metadata": {
        "id": "Vvw4u55s5hCc"
      },
      "source": [
        "# 문장 생성하는 함수\n",
        "def sentence_generation(model, char_to_index, seq_length, seed_text, n):\n",
        "\n",
        "    # 초기 시퀀스\n",
        "    init_text = seed_text\n",
        "    sentence = ''\n",
        "\n",
        "    for _ in range(n):\n",
        "        encoded = [char_to_index[char] for char in seed_text] # 현재 시퀀스에 대한 정수 인코딩\n",
        "        encoded = pad_sequences([encoded], maxlen=seq_length, padding='pre') # 데이터에 대한 패딩\n",
        "        encoded = to_categorical(encoded, num_classes=len(char_to_index))\n",
        "\n",
        "        # 입력한 X(현재 시퀀스)에 대해서 y를 예측하고 y(예측한 글자)를 result에 저장.\n",
        "        result = model.predict(encoded, verbose=0)\n",
        "        result = np.argmax(result, axis=1)\n",
        "\n",
        "        for char, index in char_to_index.items():\n",
        "            if index == result:\n",
        "                break\n",
        "\n",
        "        # 현재 시퀀스 + 예측 글자를 현재 시퀀스로 변경\n",
        "        seed_text = seed_text + char\n",
        "\n",
        "        # 예측 글자를 문장에 저장\n",
        "        sentence = sentence + char\n",
        "\n",
        "    sentence = init_text + sentence\n",
        "    return sentence"
      ],
      "execution_count": null,
      "outputs": []
    },
    {
      "cell_type": "code",
      "metadata": {
        "colab": {
          "base_uri": "https://localhost:8080/"
        },
        "id": "ZKu5s0rV5lpE",
        "outputId": "a1c411de-0b78-47e7-d7a0-03ef225c8b71"
      },
      "source": [
        "print(sentence_generation(model, char_to_index, 10, 'I get on w', 80))"
      ],
      "execution_count": null,
      "outputs": [
        {
          "output_type": "stream",
          "name": "stdout",
          "text": [
            "I get on with life as a programmer, I like to hang out with srogratt hhe ba. I lek e out m\n"
          ]
        }
      ]
    },
    {
      "cell_type": "code",
      "metadata": {
        "id": "8M3ZRrQT5mn8"
      },
      "source": [
        ""
      ],
      "execution_count": null,
      "outputs": []
    }
  ]
}