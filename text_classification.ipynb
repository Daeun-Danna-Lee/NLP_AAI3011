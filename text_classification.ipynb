{
  "nbformat": 4,
  "nbformat_minor": 0,
  "metadata": {
    "colab": {
      "name": "text-classification.ipynb",
      "provenance": [],
      "collapsed_sections": [],
      "authorship_tag": "ABX9TyMlZC1bLAplYjZP13LBqd+V",
      "include_colab_link": true
    },
    "kernelspec": {
      "name": "python3",
      "display_name": "Python 3"
    },
    "language_info": {
      "name": "python"
    }
  },
  "cells": [
    {
      "cell_type": "markdown",
      "metadata": {
        "id": "view-in-github",
        "colab_type": "text"
      },
      "source": [
        "<a href=\"https://colab.research.google.com/github/Daeun-Danna-Lee/NLP_AAI3011/blob/main/text_classification.ipynb\" target=\"_parent\"><img src=\"https://colab.research.google.com/assets/colab-badge.svg\" alt=\"Open In Colab\"/></a>"
      ]
    },
    {
      "cell_type": "markdown",
      "metadata": {
        "id": "H7xgjsxZblru"
      },
      "source": [
        "### train data"
      ]
    },
    {
      "cell_type": "code",
      "metadata": {
        "id": "46SQ5Vq5kyHl"
      },
      "source": [
        "from sklearn.datasets import fetch_20newsgroups\n",
        "from sklearn.feature_extraction.text import TfidfVectorizer"
      ],
      "execution_count": 3,
      "outputs": []
    },
    {
      "cell_type": "code",
      "metadata": {
        "id": "N9_-9-5Faj3x"
      },
      "source": [
        "categories = ['rec.autos', 'rec.motorcycles', 'rec.sport.baseball', 'rec.sport.hockey']"
      ],
      "execution_count": 4,
      "outputs": []
    },
    {
      "cell_type": "code",
      "metadata": {
        "colab": {
          "base_uri": "https://localhost:8080/"
        },
        "id": "Z1xlMUVza_hs",
        "outputId": "ee4f7e10-d7b0-47aa-ad84-216b970bd7a8"
      },
      "source": [
        "newsgroups_train = fetch_20newsgroups(subset='train', categories=categories)\n",
        "vectorizer = TfidfVectorizer()\n",
        "vectors = vectorizer.fit_transform(newsgroups_train.data)"
      ],
      "execution_count": 5,
      "outputs": [
        {
          "output_type": "stream",
          "name": "stderr",
          "text": [
            "Downloading 20news dataset. This may take a few minutes.\n",
            "Downloading dataset from https://ndownloader.figshare.com/files/5975967 (14 MB)\n"
          ]
        }
      ]
    },
    {
      "cell_type": "markdown",
      "metadata": {
        "id": "JBLo9g_RbjEJ"
      },
      "source": [
        "### test data"
      ]
    },
    {
      "cell_type": "code",
      "metadata": {
        "id": "flRJHyQrbM9J"
      },
      "source": [
        "from sklearn.naive_bayes import MultinomialNB\n",
        "from sklearn import metrics"
      ],
      "execution_count": 6,
      "outputs": []
    },
    {
      "cell_type": "code",
      "metadata": {
        "id": "I7dPqy7HbdLF"
      },
      "source": [
        "newsgroups_test = fetch_20newsgroups(subset='test', categories=categories)\n",
        "vectors_test = vectorizer.transform(newsgroups_test.data)"
      ],
      "execution_count": 7,
      "outputs": []
    },
    {
      "cell_type": "markdown",
      "metadata": {
        "id": "pJbP65aecgIc"
      },
      "source": [
        "### 모델 생성"
      ]
    },
    {
      "cell_type": "code",
      "metadata": {
        "id": "CcHwpk74b4X2"
      },
      "source": [
        "clf = MultinomialNB(alpha=0.1)"
      ],
      "execution_count": 8,
      "outputs": []
    },
    {
      "cell_type": "code",
      "metadata": {
        "id": "0Ngpdkttb8xs"
      },
      "source": [
        "clf.fit(vectors, newsgroups_train.target) # 모델 실제로 만드는 부분\n",
        "pred = clf.predict(vectors_test)"
      ],
      "execution_count": 12,
      "outputs": []
    },
    {
      "cell_type": "code",
      "metadata": {
        "colab": {
          "base_uri": "https://localhost:8080/"
        },
        "id": "jFYNAnyccJPp",
        "outputId": "138a102d-11f8-44df-f386-0316eef62dd8"
      },
      "source": [
        "metrics.f1_score(newsgroups_test.target, pred, average='macro')"
      ],
      "execution_count": 13,
      "outputs": [
        {
          "output_type": "execute_result",
          "data": {
            "text/plain": [
              "0.9634813199515636"
            ]
          },
          "metadata": {},
          "execution_count": 13
        }
      ]
    },
    {
      "cell_type": "markdown",
      "metadata": {
        "id": "u9oD8BFecz3C"
      },
      "source": [
        "### overfitting problem"
      ]
    },
    {
      "cell_type": "code",
      "metadata": {
        "id": "eeI6WERqc212"
      },
      "source": [
        "import numpy as np"
      ],
      "execution_count": 14,
      "outputs": []
    },
    {
      "cell_type": "code",
      "metadata": {
        "id": "Q12WOamoc4LK"
      },
      "source": [
        "def show_top10(classifier, vectorizer, categories):\n",
        "  feature_names = np.asarray(vectorizer.get_feature_names())\n",
        "  for i, category in enumerate(categories):\n",
        "    top10 = np.argsort(classifier.coef_[i])[-10:]\n",
        "    print(\"%s: %s\" % (category, \" \".join(feature_names[top10])))"
      ],
      "execution_count": 17,
      "outputs": []
    },
    {
      "cell_type": "code",
      "metadata": {
        "colab": {
          "base_uri": "https://localhost:8080/"
        },
        "id": "IRd3LgFHdREh",
        "outputId": "9e893ba7-a699-47f4-840b-ec7bef0b6645"
      },
      "source": [
        "show_top10(clf, vectorizer, newsgroups_train.target_names)"
      ],
      "execution_count": 18,
      "outputs": [
        {
          "output_type": "stream",
          "name": "stdout",
          "text": [
            "rec.autos: that is you it in car of and to the\n",
            "rec.motorcycles: is bike you it com in of and to the\n",
            "rec.sport.baseball: for that is he and of in to edu the\n",
            "rec.sport.hockey: ca is he that edu and of in to the\n"
          ]
        }
      ]
    },
    {
      "cell_type": "markdown",
      "metadata": {
        "id": "hmfgJ-SKdd0R"
      },
      "source": [
        "### Filtering text"
      ]
    },
    {
      "cell_type": "code",
      "metadata": {
        "id": "IBMjuWt2dVWs"
      },
      "source": [
        "newsgroups_test = fetch_20newsgroups(subset='test', remove=('headers', 'footers', 'quotes'), categories=categories)\n",
        "vectors_test = vectorizer.transform(newsgroups_test.data)"
      ],
      "execution_count": 19,
      "outputs": []
    },
    {
      "cell_type": "code",
      "metadata": {
        "id": "K2oijJgKdwlZ"
      },
      "source": [
        "newsgroups_train = fetch_20newsgroups(subset='train', remove=('headers', 'footers', 'quotes'), categories=categories)\n",
        "vectors = vectorizer.fit_transform(newsgroups_train.data)"
      ],
      "execution_count": 20,
      "outputs": []
    },
    {
      "cell_type": "code",
      "metadata": {
        "id": "4AwpJ1DQeFFi"
      },
      "source": [
        "clf = MultinomialNB(alpha=0.1)\n",
        "clf.fit(vectors, newsgroups_train.target)\n",
        "vectors_test = vectorizer.transform(newsgroups_test.data)\n",
        "pred = clf.predict(vectors_test)"
      ],
      "execution_count": 21,
      "outputs": []
    },
    {
      "cell_type": "code",
      "metadata": {
        "colab": {
          "base_uri": "https://localhost:8080/"
        },
        "id": "gK9Np9-QeWkA",
        "outputId": "3af924e3-261d-41e7-960d-fe96bc6b3ed9"
      },
      "source": [
        "metrics.f1_score(newsgroups_test.target, pred, average='macro')"
      ],
      "execution_count": 22,
      "outputs": [
        {
          "output_type": "execute_result",
          "data": {
            "text/plain": [
              "0.8723496188818602"
            ]
          },
          "metadata": {},
          "execution_count": 22
        }
      ]
    },
    {
      "cell_type": "markdown",
      "metadata": {
        "id": "x9bPKq7reh1B"
      },
      "source": [
        "-> 결과는 더 낮아졌지만, 사실 이게 맞는 것.\n",
        "이렇게 해야 함"
      ]
    },
    {
      "cell_type": "code",
      "metadata": {
        "id": "RWRc0jh5eb6t"
      },
      "source": [
        ""
      ],
      "execution_count": null,
      "outputs": []
    }
  ]
}